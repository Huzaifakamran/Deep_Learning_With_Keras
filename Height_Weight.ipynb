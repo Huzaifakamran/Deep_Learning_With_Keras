{
  "cells": [
    {
      "metadata": {
        "_cell_guid": "b1076dfc-b9ad-4769-8c92-a6c4dae69d19",
        "_uuid": "8f2839f25d086af736a60e9eeb907d3b93b6e0e5",
        "trusted": false,
        "collapsed": true
      },
      "cell_type": "code",
      "source": "# This Python 3 environment comes with many helpful analytics libraries installed\n# It is defined by the kaggle/python docker image: https://github.com/kaggle/docker-python\n# For example, here's several helpful packages to load in \n\nimport numpy as np # linear algebra\nimport pandas as pd # data processing, CSV file I/O (e.g. pd.read_csv)\nfrom keras.models import Sequential\nfrom keras.layers import Dense\nfrom keras.optimizers import Adam, SGD\n# Input data files are available in the \"../input/\" directory.\n# For example, running this (by clicking run or pressing Shift+Enter) will list the files in the input directory\n%matplotlib inline\nimport matplotlib.pyplot as plt\n\nimport os\nprint(os.listdir(\"../input\"))\n\n# Any results you write to the current directory are saved as output.",
      "execution_count": null,
      "outputs": []
    },
    {
      "metadata": {
        "collapsed": true,
        "_cell_guid": "79c7e3d0-c299-4dcb-8224-4455121ee9b0",
        "_uuid": "d629ff2d2480ee46fbb7e2d37f6b5fab8052498a",
        "trusted": false
      },
      "cell_type": "code",
      "source": "df =pd.read_csv('../input/height-weight.csv')\nX= df[['Height']].values\nY= df[['Weight']].values",
      "execution_count": null,
      "outputs": []
    },
    {
      "metadata": {
        "_cell_guid": "cfac2577-74e9-40a2-a9a3-4f98a2a66468",
        "_uuid": "81e63d282eec9ed84c34434933e06b506cf23c31",
        "trusted": false,
        "collapsed": true
      },
      "cell_type": "code",
      "source": "Y",
      "execution_count": null,
      "outputs": []
    },
    {
      "metadata": {
        "_cell_guid": "2985057a-3daa-4e15-988b-d5e6bb340ea9",
        "_uuid": "567bd3b618ac330d08c6ec7b9832bac74427cba5",
        "trusted": false,
        "collapsed": true
      },
      "cell_type": "code",
      "source": "X",
      "execution_count": null,
      "outputs": []
    },
    {
      "metadata": {
        "collapsed": true,
        "_cell_guid": "df95d8b3-a3d1-45b0-917a-1dcbf3fbff35",
        "_uuid": "97f975182617e81200e1b642de6b7bdb99d8ca9d",
        "trusted": false
      },
      "cell_type": "code",
      "source": "model = Sequential()\nmodel.add(Dense(1,input_shape=(1,)))\n",
      "execution_count": null,
      "outputs": []
    },
    {
      "metadata": {
        "_cell_guid": "ffb03a56-9c31-4bf4-bd97-d527d57de0eb",
        "_uuid": "6ab56e3d29f53d23c2c56dc5a1226e2094a6ea9a",
        "trusted": false,
        "collapsed": true
      },
      "cell_type": "code",
      "source": "model.summary()",
      "execution_count": null,
      "outputs": []
    },
    {
      "metadata": {
        "collapsed": true,
        "_cell_guid": "0e9428a8-5290-43c8-9d6e-453e20662774",
        "_uuid": "cc782813a4a5a1d1316d9b0483c1d18028e49423",
        "trusted": false
      },
      "cell_type": "code",
      "source": "model.compile(Adam(lr=0.6),'mean_squared_error')",
      "execution_count": null,
      "outputs": []
    },
    {
      "metadata": {
        "_cell_guid": "abc01b7a-8da2-4875-a301-9cdb5f3d090a",
        "_uuid": "9e1a5606b029db18444136df6bdeacf9202582d6",
        "trusted": false,
        "collapsed": true
      },
      "cell_type": "code",
      "source": "model.fit(X,Y,epochs=90,batch_size=120)",
      "execution_count": null,
      "outputs": []
    },
    {
      "metadata": {
        "collapsed": true,
        "_cell_guid": "7b5bb616-46f3-4393-ab9e-acfd91a68375",
        "_uuid": "886afa203869b2487900151c19babd1923f940a2",
        "trusted": false
      },
      "cell_type": "code",
      "source": "Y_pred = model.predict(X)",
      "execution_count": null,
      "outputs": []
    },
    {
      "metadata": {
        "_cell_guid": "46c1fed8-1638-42c7-b1f2-a3a911b9de86",
        "_uuid": "2402af0a02fe8e3ec53c5c0f7dff64f219dbc18b",
        "trusted": false,
        "collapsed": true
      },
      "cell_type": "code",
      "source": "df.plot(kind='scatter',\n       x='Height',\n       y='Weight',\n       title='Weight and height in adults')\nplt.plot(X,Y_pred, color='green', linewidth=3)",
      "execution_count": null,
      "outputs": []
    },
    {
      "metadata": {
        "collapsed": true,
        "_cell_guid": "21485e89-d1fe-4136-9e0a-c385af7ab4a2",
        "_uuid": "db27722ab60fb2220dbf83397527db2c6ec8e041",
        "trusted": false
      },
      "cell_type": "code",
      "source": "w,b=model.get_weights()",
      "execution_count": null,
      "outputs": []
    },
    {
      "metadata": {
        "_cell_guid": "8531cbc8-ee37-4c96-b519-431a2c7b37f7",
        "_uuid": "1765d90023b098400982bb5e5466338fc3ef562b",
        "trusted": false,
        "collapsed": true
      },
      "cell_type": "code",
      "source": "w",
      "execution_count": null,
      "outputs": []
    },
    {
      "metadata": {
        "collapsed": true,
        "_cell_guid": "b9d4cc7e-5cd9-41a3-8b6c-7c3304ee9167",
        "_uuid": "476039a00679445251757ba2c3e163683935cd86",
        "trusted": false
      },
      "cell_type": "code",
      "source": "b",
      "execution_count": null,
      "outputs": []
    }
  ],
  "metadata": {
    "kernelspec": {
      "display_name": "Python 3",
      "language": "python",
      "name": "python3"
    },
    "language_info": {
      "name": "python",
      "codemirror_mode": {
        "name": "ipython",
        "version": 3
      },
      "mimetype": "text/x-python",
      "pygments_lexer": "ipython3",
      "version": "3.6.5",
      "nbconvert_exporter": "python",
      "file_extension": ".py"
    }
  },
  "nbformat": 4,
  "nbformat_minor": 1
}