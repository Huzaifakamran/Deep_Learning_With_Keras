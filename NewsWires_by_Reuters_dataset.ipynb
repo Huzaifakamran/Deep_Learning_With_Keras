{
  "nbformat": 4,
  "nbformat_minor": 0,
  "metadata": {
    "colab": {
      "name": "NewsWires by Reuters dataset.ipynb",
      "version": "0.3.2",
      "provenance": [],
      "include_colab_link": true
    },
    "kernelspec": {
      "name": "python3",
      "display_name": "Python 3"
    }
  },
  "cells": [
    {
      "cell_type": "markdown",
      "metadata": {
        "id": "view-in-github",
        "colab_type": "text"
      },
      "source": [
        "[View in Colaboratory](https://colab.research.google.com/github/Huzaifakamran/Deep_Learning_With_Keras/blob/master/NewsWires_by_Reuters_dataset.ipynb)"
      ]
    },
    {
      "metadata": {
        "id": "J7umdQUODcEi",
        "colab_type": "code",
        "colab": {
          "base_uri": "https://localhost:8080/",
          "height": 72
        },
        "outputId": "9aa68fc8-be13-4c2d-8690-8a724f3840d6"
      },
      "cell_type": "code",
      "source": [
        "from keras.datasets import reuters\n",
        "(train_data,train_labels),(test_data,test_labels)=reuters.load_data(num_words=10000)"
      ],
      "execution_count": 2,
      "outputs": [
        {
          "output_type": "stream",
          "text": [
            "Using TensorFlow backend.\n"
          ],
          "name": "stderr"
        },
        {
          "output_type": "stream",
          "text": [
            "Downloading data from https://s3.amazonaws.com/text-datasets/reuters.npz\n",
            "2113536/2110848 [==============================] - 0s 0us/step\n"
          ],
          "name": "stdout"
        }
      ]
    },
    {
      "metadata": {
        "id": "pfHZb8wnEDFY",
        "colab_type": "code",
        "colab": {
          "base_uri": "https://localhost:8080/",
          "height": 35
        },
        "outputId": "f30074f0-27c9-4955-8bc6-0979a9697b29"
      },
      "cell_type": "code",
      "source": [
        "len(train_data)"
      ],
      "execution_count": 3,
      "outputs": [
        {
          "output_type": "execute_result",
          "data": {
            "text/plain": [
              "8982"
            ]
          },
          "metadata": {
            "tags": []
          },
          "execution_count": 3
        }
      ]
    },
    {
      "metadata": {
        "id": "2n9qHBhlEK7e",
        "colab_type": "code",
        "colab": {
          "base_uri": "https://localhost:8080/",
          "height": 35
        },
        "outputId": "5e2e7fae-b4f7-4e41-d83e-7fca01b47f6b"
      },
      "cell_type": "code",
      "source": [
        "len(test_data)"
      ],
      "execution_count": 4,
      "outputs": [
        {
          "output_type": "execute_result",
          "data": {
            "text/plain": [
              "2246"
            ]
          },
          "metadata": {
            "tags": []
          },
          "execution_count": 4
        }
      ]
    },
    {
      "metadata": {
        "id": "Z9fQGUnAEN2Z",
        "colab_type": "code",
        "colab": {
          "base_uri": "https://localhost:8080/",
          "height": 1599
        },
        "outputId": "ebef0285-6f62-47b5-daba-8dfc8f6ff1bc"
      },
      "cell_type": "code",
      "source": [
        "train_data[0]"
      ],
      "execution_count": 5,
      "outputs": [
        {
          "output_type": "execute_result",
          "data": {
            "text/plain": [
              "[1,\n",
              " 2,\n",
              " 2,\n",
              " 8,\n",
              " 43,\n",
              " 10,\n",
              " 447,\n",
              " 5,\n",
              " 25,\n",
              " 207,\n",
              " 270,\n",
              " 5,\n",
              " 3095,\n",
              " 111,\n",
              " 16,\n",
              " 369,\n",
              " 186,\n",
              " 90,\n",
              " 67,\n",
              " 7,\n",
              " 89,\n",
              " 5,\n",
              " 19,\n",
              " 102,\n",
              " 6,\n",
              " 19,\n",
              " 124,\n",
              " 15,\n",
              " 90,\n",
              " 67,\n",
              " 84,\n",
              " 22,\n",
              " 482,\n",
              " 26,\n",
              " 7,\n",
              " 48,\n",
              " 4,\n",
              " 49,\n",
              " 8,\n",
              " 864,\n",
              " 39,\n",
              " 209,\n",
              " 154,\n",
              " 6,\n",
              " 151,\n",
              " 6,\n",
              " 83,\n",
              " 11,\n",
              " 15,\n",
              " 22,\n",
              " 155,\n",
              " 11,\n",
              " 15,\n",
              " 7,\n",
              " 48,\n",
              " 9,\n",
              " 4579,\n",
              " 1005,\n",
              " 504,\n",
              " 6,\n",
              " 258,\n",
              " 6,\n",
              " 272,\n",
              " 11,\n",
              " 15,\n",
              " 22,\n",
              " 134,\n",
              " 44,\n",
              " 11,\n",
              " 15,\n",
              " 16,\n",
              " 8,\n",
              " 197,\n",
              " 1245,\n",
              " 90,\n",
              " 67,\n",
              " 52,\n",
              " 29,\n",
              " 209,\n",
              " 30,\n",
              " 32,\n",
              " 132,\n",
              " 6,\n",
              " 109,\n",
              " 15,\n",
              " 17,\n",
              " 12]"
            ]
          },
          "metadata": {
            "tags": []
          },
          "execution_count": 5
        }
      ]
    },
    {
      "metadata": {
        "id": "Nea4wqk-EUIp",
        "colab_type": "code",
        "colab": {
          "base_uri": "https://localhost:8080/",
          "height": 54
        },
        "outputId": "8dca7b83-f29c-4dc7-bc8e-0b67865a05da"
      },
      "cell_type": "code",
      "source": [
        "word_index=reuters.get_word_index()\n",
        "reverse_word_index=dict([(value,key) for (key,value) in word_index.items()])\n",
        "decoded_newswire=''.join([reverse_word_index.get(i-3,'?') for i in train_data[0]])\n",
        "\n",
        "\n"
      ],
      "execution_count": 6,
      "outputs": [
        {
          "output_type": "stream",
          "text": [
            "Downloading data from https://s3.amazonaws.com/text-datasets/reuters_word_index.json\n",
            "557056/550378 [==============================] - 0s 0us/step\n"
          ],
          "name": "stdout"
        }
      ]
    },
    {
      "metadata": {
        "id": "J05pFUJzIUKq",
        "colab_type": "code",
        "colab": {
          "base_uri": "https://localhost:8080/",
          "height": 35
        },
        "outputId": "b2b00a27-ca97-4052-efcc-0f6b167fade6"
      },
      "cell_type": "code",
      "source": [
        "train_labels[0]"
      ],
      "execution_count": 7,
      "outputs": [
        {
          "output_type": "execute_result",
          "data": {
            "text/plain": [
              "3"
            ]
          },
          "metadata": {
            "tags": []
          },
          "execution_count": 7
        }
      ]
    },
    {
      "metadata": {
        "id": "qxz3DXR5J5TF",
        "colab_type": "code",
        "colab": {}
      },
      "cell_type": "code",
      "source": [
        "import numpy as np\n",
        "def vectorize_sequences(sequences,dimension=10000):\n",
        "  results=np.zeros((len(sequences),dimension))\n",
        "  for i, sequence in enumerate(sequences):\n",
        "    results[i,sequence]=1\n",
        "  return results\n",
        "x_train=vectorize_sequences(train_data)\n",
        "x_test=vectorize_sequences(test_data)\n",
        "  "
      ],
      "execution_count": 0,
      "outputs": []
    },
    {
      "metadata": {
        "id": "tyTp3qWAREB-",
        "colab_type": "code",
        "colab": {}
      },
      "cell_type": "code",
      "source": [
        "from keras.utils.np_utils import to_categorical\n",
        "one_hot_train_labels=to_categorical(train_labels)\n",
        "one_hot_test_labels=to_categorical(test_labels)"
      ],
      "execution_count": 0,
      "outputs": []
    },
    {
      "metadata": {
        "id": "CAahniF6RqnT",
        "colab_type": "code",
        "colab": {}
      },
      "cell_type": "code",
      "source": [
        "from keras import models\n",
        "from keras import layers\n",
        "model=models.Sequential()\n",
        "model.add(layers.Dense(64,activation='relu',input_shape=(10000,)))\n",
        "model.add(layers.Dense(64,activation='relu'))\n",
        "model.add(layers.Dense(46,activation='softmax'))"
      ],
      "execution_count": 0,
      "outputs": []
    },
    {
      "metadata": {
        "id": "rDS4wiHWW0Wu",
        "colab_type": "code",
        "colab": {}
      },
      "cell_type": "code",
      "source": [
        "model.compile(optimizer='rmsprop',\n",
        "              loss='categorical_crossentropy',\n",
        "              metrics=['accuracy'])"
      ],
      "execution_count": 0,
      "outputs": []
    },
    {
      "metadata": {
        "id": "2lNMn1e8XQ-k",
        "colab_type": "code",
        "colab": {}
      },
      "cell_type": "code",
      "source": [
        "x_val=x_train[:1000]\n",
        "partial_x_train=x_train[1000:]\n",
        "y_val=one_hot_train_labels[:1000]\n",
        "partial_y_train=one_hot_train_labels[1000:]"
      ],
      "execution_count": 0,
      "outputs": []
    },
    {
      "metadata": {
        "id": "GaV1Gi2rZSjc",
        "colab_type": "code",
        "colab": {
          "base_uri": "https://localhost:8080/",
          "height": 783
        },
        "outputId": "2a5510b4-ee19-4c76-eb96-5b7f6c66cb8d"
      },
      "cell_type": "code",
      "source": [
        "history=model.fit(partial_x_train,\n",
        "                  partial_y_train,\n",
        "                  epochs=20,\n",
        "                  batch_size=512,\n",
        "                  validation_data=(x_val,y_val)\n",
        "                  )"
      ],
      "execution_count": 13,
      "outputs": [
        {
          "output_type": "stream",
          "text": [
            "Train on 7982 samples, validate on 1000 samples\n",
            "Epoch 1/20\n",
            "7982/7982 [==============================] - 1s 164us/step - loss: 2.5219 - acc: 0.4957 - val_loss: 1.7203 - val_acc: 0.6140\n",
            "Epoch 2/20\n",
            "7982/7982 [==============================] - 1s 117us/step - loss: 1.4471 - acc: 0.6887 - val_loss: 1.3506 - val_acc: 0.7040\n",
            "Epoch 3/20\n",
            "7982/7982 [==============================] - 1s 146us/step - loss: 1.0979 - acc: 0.7642 - val_loss: 1.1725 - val_acc: 0.7430\n",
            "Epoch 4/20\n",
            "7982/7982 [==============================] - 1s 144us/step - loss: 0.8704 - acc: 0.8166 - val_loss: 1.0786 - val_acc: 0.7580\n",
            "Epoch 5/20\n",
            "7982/7982 [==============================] - 1s 144us/step - loss: 0.7036 - acc: 0.8484 - val_loss: 0.9839 - val_acc: 0.7810\n",
            "Epoch 6/20\n",
            "7982/7982 [==============================] - 1s 144us/step - loss: 0.5667 - acc: 0.8800 - val_loss: 0.9387 - val_acc: 0.8030\n",
            "Epoch 7/20\n",
            "7982/7982 [==============================] - 1s 145us/step - loss: 0.4604 - acc: 0.9044 - val_loss: 0.9091 - val_acc: 0.8030\n",
            "Epoch 8/20\n",
            "7982/7982 [==============================] - 1s 144us/step - loss: 0.3709 - acc: 0.9231 - val_loss: 0.9361 - val_acc: 0.7920\n",
            "Epoch 9/20\n",
            "5120/7982 [==================>...........] - ETA: 0s - loss: 0.3002 - acc: 0.9336"
          ],
          "name": "stdout"
        },
        {
          "output_type": "stream",
          "text": [
            "7982/7982 [==============================] - 1s 146us/step - loss: 0.3039 - acc: 0.9317 - val_loss: 0.8912 - val_acc: 0.8070\n",
            "Epoch 10/20\n",
            "7982/7982 [==============================] - 1s 146us/step - loss: 0.2546 - acc: 0.9411 - val_loss: 0.9072 - val_acc: 0.8130\n",
            "Epoch 11/20\n",
            "7982/7982 [==============================] - 1s 146us/step - loss: 0.2192 - acc: 0.9470 - val_loss: 0.9157 - val_acc: 0.8080\n",
            "Epoch 12/20\n",
            "7982/7982 [==============================] - 1s 155us/step - loss: 0.1886 - acc: 0.9506 - val_loss: 0.9094 - val_acc: 0.8150\n",
            "Epoch 13/20\n",
            "7982/7982 [==============================] - 1s 148us/step - loss: 0.1710 - acc: 0.9529 - val_loss: 0.9341 - val_acc: 0.8090\n",
            "Epoch 14/20\n",
            "7982/7982 [==============================] - 1s 146us/step - loss: 0.1546 - acc: 0.9555 - val_loss: 0.9633 - val_acc: 0.8050\n",
            "Epoch 15/20\n",
            "7982/7982 [==============================] - 1s 142us/step - loss: 0.1397 - acc: 0.9560 - val_loss: 0.9688 - val_acc: 0.8140\n",
            "Epoch 16/20\n",
            "7982/7982 [==============================] - 1s 146us/step - loss: 0.1323 - acc: 0.9563 - val_loss: 1.0262 - val_acc: 0.8030\n",
            "Epoch 17/20\n",
            "7982/7982 [==============================] - 1s 144us/step - loss: 0.1227 - acc: 0.9579 - val_loss: 1.0242 - val_acc: 0.7990\n",
            "Epoch 18/20\n",
            "1024/7982 [==>...........................] - ETA: 0s - loss: 0.1342 - acc: 0.9561"
          ],
          "name": "stdout"
        },
        {
          "output_type": "stream",
          "text": [
            "7982/7982 [==============================] - 1s 144us/step - loss: 0.1204 - acc: 0.9573 - val_loss: 1.0430 - val_acc: 0.8020\n",
            "Epoch 19/20\n",
            "7982/7982 [==============================] - 1s 145us/step - loss: 0.1147 - acc: 0.9594 - val_loss: 1.1003 - val_acc: 0.7950\n",
            "Epoch 20/20\n",
            "7982/7982 [==============================] - 1s 144us/step - loss: 0.1124 - acc: 0.9599 - val_loss: 1.0698 - val_acc: 0.8000\n"
          ],
          "name": "stdout"
        }
      ]
    },
    {
      "metadata": {
        "id": "hu0Bfe2lUXee",
        "colab_type": "code",
        "colab": {
          "base_uri": "https://localhost:8080/",
          "height": 376
        },
        "outputId": "e13bc7fd-d213-4266-b6af-76aed6a09110"
      },
      "cell_type": "code",
      "source": [
        "import matplotlib.pyplot as plt\n",
        "loss=history.history['loss']\n",
        "val_loss=history.history['val_loss']\n",
        "epochs=range(1,len(loss)+1)\n",
        "plt.plot(epochs,loss,'bo',label='Training loss')\n",
        "plt.plot(epochs,val_loss,'b',label='Validation loss')\n",
        "plt.title('Trainig and validation loss')\n",
        "plt.xlabel('Epochs')\n",
        "plt.ylabel('loss')\n",
        "plt.legend()\n",
        "plt.show()"
      ],
      "execution_count": 14,
      "outputs": [
        {
          "output_type": "display_data",
          "data": {
            "image/png": "[encoded data removed]",
            "text/plain": [
              "<matplotlib.figure.Figure at 0x7fcb78d2f748>"
            ]
          },
          "metadata": {
            "tags": []
          }
        }
      ]
    },
    {
      "metadata": {
        "id": "juC25f8SWceB",
        "colab_type": "code",
        "colab": {
          "base_uri": "https://localhost:8080/",
          "height": 376
        },
        "outputId": "f36740bf-3f5e-4541-acbb-b9d005252c6e"
      },
      "cell_type": "code",
      "source": [
        "plt.clf()\n",
        "acc=history.history['acc']\n",
        "val_acc=history.history['val_acc']\n",
        "plt.plot(epochs,acc,'bo',label='Trainig acuracy')\n",
        "plt.plot(epochs,val_acc,'b',label='Validation acuracy')\n",
        "plt.title('Training and validation accuracy')\n",
        "plt.xlabel('Epochs')\n",
        "plt.ylabel('Loss')\n",
        "plt.legend()\n",
        "plt.show()"
      ],
      "execution_count": 16,
      "outputs": [
        {
          "output_type": "display_data",
          "data": {
            "image/png": "[encoded data removed]",
            "text/plain": [
              "<matplotlib.figure.Figure at 0x7fcb78d3ff98>"
            ]
          },
          "metadata": {
            "tags": []
          }
        }
      ]
    },
    {
      "metadata": {
        "id": "N21U1M2ceULI",
        "colab_type": "code",
        "colab": {
          "base_uri": "https://localhost:8080/",
          "height": 401
        },
        "outputId": "c41d89b4-e2db-40fa-92c4-9035c86bee97"
      },
      "cell_type": "code",
      "source": [
        "model=models.Sequential()\n",
        "model.add(layers.Dense(64,activation='relu',input_shape=(10000,)))\n",
        "model.add(layers.Dense(64,activation='relu'))\n",
        "model.add(layers.Dense(46,activation='softmax'))\n",
        "\n",
        "model.compile(optimizer='rmsprop',\n",
        "              loss='categorical_crossentropy',\n",
        "              metrics=['accuracy'])\n",
        "model.fit(partial_x_train,\n",
        "          partial_y_train,\n",
        "          epochs=9,\n",
        "          batch_size=512,\n",
        "          validation_data=(x_val,y_val))\n",
        "results=model.evaluate(x_test,one_hot_test_labels)"
      ],
      "execution_count": 18,
      "outputs": [
        {
          "output_type": "stream",
          "text": [
            "Train on 7982 samples, validate on 1000 samples\n",
            "Epoch 1/9\n",
            "7982/7982 [==============================] - 1s 163us/step - loss: 2.8016 - acc: 0.5040 - val_loss: 1.8397 - val_acc: 0.6320\n",
            "Epoch 2/9\n",
            "7982/7982 [==============================] - 1s 138us/step - loss: 1.5295 - acc: 0.6946 - val_loss: 1.3415 - val_acc: 0.7090\n",
            "Epoch 3/9\n",
            "7982/7982 [==============================] - 1s 141us/step - loss: 1.1193 - acc: 0.7684 - val_loss: 1.1444 - val_acc: 0.7440\n",
            "Epoch 4/9\n",
            "7982/7982 [==============================] - 1s 144us/step - loss: 0.8776 - acc: 0.8143 - val_loss: 1.0335 - val_acc: 0.7850\n",
            "Epoch 5/9\n",
            "7982/7982 [==============================] - 1s 145us/step - loss: 0.7077 - acc: 0.8463 - val_loss: 0.9715 - val_acc: 0.8010\n",
            "Epoch 6/9\n",
            "7982/7982 [==============================] - 1s 143us/step - loss: 0.5697 - acc: 0.8748 - val_loss: 0.9438 - val_acc: 0.7970\n",
            "Epoch 7/9\n",
            "7982/7982 [==============================] - 1s 143us/step - loss: 0.4598 - acc: 0.9054 - val_loss: 0.9258 - val_acc: 0.7950\n",
            "Epoch 8/9\n",
            "7982/7982 [==============================] - 1s 145us/step - loss: 0.3734 - acc: 0.9228 - val_loss: 0.9731 - val_acc: 0.7920\n",
            "Epoch 9/9\n",
            "5632/7982 [====================>.........] - ETA: 0s - loss: 0.3060 - acc: 0.9354"
          ],
          "name": "stdout"
        },
        {
          "output_type": "stream",
          "text": [
            "7982/7982 [==============================] - 1s 141us/step - loss: 0.3041 - acc: 0.9356 - val_loss: 0.8994 - val_acc: 0.8160\n",
            "2246/2246 [==============================] - 0s 108us/step\n"
          ],
          "name": "stdout"
        }
      ]
    },
    {
      "metadata": {
        "id": "YHdDgcQ0gFS-",
        "colab_type": "code",
        "colab": {
          "base_uri": "https://localhost:8080/",
          "height": 35
        },
        "outputId": "ed50b33e-2863-4931-efb9-13b05cb4f2c5"
      },
      "cell_type": "code",
      "source": [
        "predictions=model.predict(x_test)\n",
        "predictions[0].shape"
      ],
      "execution_count": 21,
      "outputs": [
        {
          "output_type": "execute_result",
          "data": {
            "text/plain": [
              "(46,)"
            ]
          },
          "metadata": {
            "tags": []
          },
          "execution_count": 21
        }
      ]
    }
  ]
}