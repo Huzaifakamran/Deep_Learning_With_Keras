{
  "nbformat": 4,
  "nbformat_minor": 0,
  "metadata": {
    "colab": {
      "name": "IMDB Dataset Of Movie reviews.ipynb",
      "version": "0.3.2",
      "views": {},
      "default_view": {},
      "provenance": []
    },
    "kernelspec": {
      "name": "python3",
      "display_name": "Python 3"
    }
  },
  "cells": [
    {
      "metadata": {
        "id": "eiVF4YGMSDz-",
        "colab_type": "code",
        "colab": {
          "autoexec": {
            "startup": false,
            "wait_interval": 0
          },
          "base_uri": "https://localhost:8080/",
          "height": 72
        },
        "outputId": "75bec86a-2855-47da-c237-79b273421b88",
        "executionInfo": {
          "status": "ok",
          "timestamp": 1528398415591,
          "user_tz": -300,
          "elapsed": 9703,
          "user": {
            "displayName": "Huzaifa Kamran",
            "photoUrl": "//lh3.googleusercontent.com/-uTO2GnOCB4E/AAAAAAAAAAI/AAAAAAAAGZU/tlp2eSEOsCk/s50-c-k-no/photo.jpg",
            "userId": "103167923321791102369"
          }
        }
      },
      "cell_type": "code",
      "source": [
        "from keras.datasets import imdb\n",
        "(train_data,train_labels),(test_data,test_labels)=imdb.load_data(num_words=10000)"
      ],
      "execution_count": 2,
      "outputs": [
        {
          "output_type": "stream",
          "text": [
            "Using TensorFlow backend.\n"
          ],
          "name": "stderr"
        },
        {
          "output_type": "stream",
          "text": [
            "Downloading data from https://s3.amazonaws.com/text-datasets/imdb.npz\n",
            "17465344/17464789 [==============================] - 2s 0us/step\n"
          ],
          "name": "stdout"
        }
      ]
    },
    {
      "metadata": {
        "id": "KVmZRiypvPI9",
        "colab_type": "code",
        "colab": {
          "autoexec": {
            "startup": false,
            "wait_interval": 0
          },
          "base_uri": "https://localhost:8080/",
          "height": 3981
        },
        "outputId": "424cc315-5a39-4374-f5d9-0f5a4b1d152d",
        "executionInfo": {
          "status": "ok",
          "timestamp": 1528398425343,
          "user_tz": -300,
          "elapsed": 1212,
          "user": {
            "displayName": "Huzaifa Kamran",
            "photoUrl": "//lh3.googleusercontent.com/-uTO2GnOCB4E/AAAAAAAAAAI/AAAAAAAAGZU/tlp2eSEOsCk/s50-c-k-no/photo.jpg",
            "userId": "103167923321791102369"
          }
        }
      },
      "cell_type": "code",
      "source": [
        "train_data[0]"
      ],
      "execution_count": 3,
      "outputs": [
        {
          "output_type": "execute_result",
          "data": {
            "text/plain": [
              "[1,\n",
              " 14,\n",
              " 22,\n",
              " 16,\n",
              " 43,\n",
              " 530,\n",
              " 973,\n",
              " 1622,\n",
              " 1385,\n",
              " 65,\n",
              " 458,\n",
              " 4468,\n",
              " 66,\n",
              " 3941,\n",
              " 4,\n",
              " 173,\n",
              " 36,\n",
              " 256,\n",
              " 5,\n",
              " 25,\n",
              " 100,\n",
              " 43,\n",
              " 838,\n",
              " 112,\n",
              " 50,\n",
              " 670,\n",
              " 2,\n",
              " 9,\n",
              " 35,\n",
              " 480,\n",
              " 284,\n",
              " 5,\n",
              " 150,\n",
              " 4,\n",
              " 172,\n",
              " 112,\n",
              " 167,\n",
              " 2,\n",
              " 336,\n",
              " 385,\n",
              " 39,\n",
              " 4,\n",
              " 172,\n",
              " 4536,\n",
              " 1111,\n",
              " 17,\n",
              " 546,\n",
              " 38,\n",
              " 13,\n",
              " 447,\n",
              " 4,\n",
              " 192,\n",
              " 50,\n",
              " 16,\n",
              " 6,\n",
              " 147,\n",
              " 2025,\n",
              " 19,\n",
              " 14,\n",
              " 22,\n",
              " 4,\n",
              " 1920,\n",
              " 4613,\n",
              " 469,\n",
              " 4,\n",
              " 22,\n",
              " 71,\n",
              " 87,\n",
              " 12,\n",
              " 16,\n",
              " 43,\n",
              " 530,\n",
              " 38,\n",
              " 76,\n",
              " 15,\n",
              " 13,\n",
              " 1247,\n",
              " 4,\n",
              " 22,\n",
              " 17,\n",
              " 515,\n",
              " 17,\n",
              " 12,\n",
              " 16,\n",
              " 626,\n",
              " 18,\n",
              " 2,\n",
              " 5,\n",
              " 62,\n",
              " 386,\n",
              " 12,\n",
              " 8,\n",
              " 316,\n",
              " 8,\n",
              " 106,\n",
              " 5,\n",
              " 4,\n",
              " 2223,\n",
              " 5244,\n",
              " 16,\n",
              " 480,\n",
              " 66,\n",
              " 3785,\n",
              " 33,\n",
              " 4,\n",
              " 130,\n",
              " 12,\n",
              " 16,\n",
              " 38,\n",
              " 619,\n",
              " 5,\n",
              " 25,\n",
              " 124,\n",
              " 51,\n",
              " 36,\n",
              " 135,\n",
              " 48,\n",
              " 25,\n",
              " 1415,\n",
              " 33,\n",
              " 6,\n",
              " 22,\n",
              " 12,\n",
              " 215,\n",
              " 28,\n",
              " 77,\n",
              " 52,\n",
              " 5,\n",
              " 14,\n",
              " 407,\n",
              " 16,\n",
              " 82,\n",
              " 2,\n",
              " 8,\n",
              " 4,\n",
              " 107,\n",
              " 117,\n",
              " 5952,\n",
              " 15,\n",
              " 256,\n",
              " 4,\n",
              " 2,\n",
              " 7,\n",
              " 3766,\n",
              " 5,\n",
              " 723,\n",
              " 36,\n",
              " 71,\n",
              " 43,\n",
              " 530,\n",
              " 476,\n",
              " 26,\n",
              " 400,\n",
              " 317,\n",
              " 46,\n",
              " 7,\n",
              " 4,\n",
              " 2,\n",
              " 1029,\n",
              " 13,\n",
              " 104,\n",
              " 88,\n",
              " 4,\n",
              " 381,\n",
              " 15,\n",
              " 297,\n",
              " 98,\n",
              " 32,\n",
              " 2071,\n",
              " 56,\n",
              " 26,\n",
              " 141,\n",
              " 6,\n",
              " 194,\n",
              " 7486,\n",
              " 18,\n",
              " 4,\n",
              " 226,\n",
              " 22,\n",
              " 21,\n",
              " 134,\n",
              " 476,\n",
              " 26,\n",
              " 480,\n",
              " 5,\n",
              " 144,\n",
              " 30,\n",
              " 5535,\n",
              " 18,\n",
              " 51,\n",
              " 36,\n",
              " 28,\n",
              " 224,\n",
              " 92,\n",
              " 25,\n",
              " 104,\n",
              " 4,\n",
              " 226,\n",
              " 65,\n",
              " 16,\n",
              " 38,\n",
              " 1334,\n",
              " 88,\n",
              " 12,\n",
              " 16,\n",
              " 283,\n",
              " 5,\n",
              " 16,\n",
              " 4472,\n",
              " 113,\n",
              " 103,\n",
              " 32,\n",
              " 15,\n",
              " 16,\n",
              " 5345,\n",
              " 19,\n",
              " 178,\n",
              " 32]"
            ]
          },
          "metadata": {
            "tags": []
          },
          "execution_count": 3
        }
      ]
    },
    {
      "metadata": {
        "id": "7yhVx-UO6LjS",
        "colab_type": "code",
        "colab": {
          "autoexec": {
            "startup": false,
            "wait_interval": 0
          },
          "base_uri": "https://localhost:8080/",
          "height": 35
        },
        "outputId": "f45b8f76-3cc4-48ca-d9ca-c1c834c5c458",
        "executionInfo": {
          "status": "ok",
          "timestamp": 1528398459871,
          "user_tz": -300,
          "elapsed": 1924,
          "user": {
            "displayName": "Huzaifa Kamran",
            "photoUrl": "//lh3.googleusercontent.com/-uTO2GnOCB4E/AAAAAAAAAAI/AAAAAAAAGZU/tlp2eSEOsCk/s50-c-k-no/photo.jpg",
            "userId": "103167923321791102369"
          }
        }
      },
      "cell_type": "code",
      "source": [
        "train_labels[0]"
      ],
      "execution_count": 4,
      "outputs": [
        {
          "output_type": "execute_result",
          "data": {
            "text/plain": [
              "1"
            ]
          },
          "metadata": {
            "tags": []
          },
          "execution_count": 4
        }
      ]
    },
    {
      "metadata": {
        "id": "_2Oz2Zcm6SwC",
        "colab_type": "code",
        "colab": {
          "autoexec": {
            "startup": false,
            "wait_interval": 0
          },
          "base_uri": "https://localhost:8080/",
          "height": 54
        },
        "outputId": "e73307c1-8a4d-47c8-98e8-1dc8a8a365f4",
        "executionInfo": {
          "status": "ok",
          "timestamp": 1528398465972,
          "user_tz": -300,
          "elapsed": 2613,
          "user": {
            "displayName": "Huzaifa Kamran",
            "photoUrl": "//lh3.googleusercontent.com/-uTO2GnOCB4E/AAAAAAAAAAI/AAAAAAAAGZU/tlp2eSEOsCk/s50-c-k-no/photo.jpg",
            "userId": "103167923321791102369"
          }
        }
      },
      "cell_type": "code",
      "source": [
        "word_index=imdb.get_word_index()\n",
        "reverse_word_index=dict([(value,key) for (key,value) in word_index.items()])\n",
        "decoded_review=' '.join([reverse_word_index.get(i-3,'?') for i in train_data[0]])"
      ],
      "execution_count": 5,
      "outputs": [
        {
          "output_type": "stream",
          "text": [
            "Downloading data from https://s3.amazonaws.com/text-datasets/imdb_word_index.json\n",
            "1646592/1641221 [==============================] - 1s 1us/step\n"
          ],
          "name": "stdout"
        }
      ]
    },
    {
      "metadata": {
        "id": "YzA-mZUkhZOo",
        "colab_type": "code",
        "colab": {
          "autoexec": {
            "startup": false,
            "wait_interval": 0
          },
          "base_uri": "https://localhost:8080/",
          "height": 55
        },
        "outputId": "0b7c91da-09ff-448d-d034-348308345de3",
        "executionInfo": {
          "status": "ok",
          "timestamp": 1528398469504,
          "user_tz": -300,
          "elapsed": 910,
          "user": {
            "displayName": "Huzaifa Kamran",
            "photoUrl": "//lh3.googleusercontent.com/-uTO2GnOCB4E/AAAAAAAAAAI/AAAAAAAAGZU/tlp2eSEOsCk/s50-c-k-no/photo.jpg",
            "userId": "103167923321791102369"
          }
        }
      },
      "cell_type": "code",
      "source": [
        "decoded_review"
      ],
      "execution_count": 6,
      "outputs": [
        {
          "output_type": "execute_result",
          "data": {
            "text/plain": [
              "\"? this film was just brilliant casting location scenery story direction everyone's really suited the part they played and you could just imagine being there robert ? is an amazing actor and now the same being director ? father came from the same scottish island as myself so i loved the fact there was a real connection with this film the witty remarks throughout the film were great it was just brilliant so much that i bought the film as soon as it was released for ? and would recommend it to everyone to watch and the fly fishing was amazing really cried at the end it was so sad and you know what they say if you cry at a film it must have been good and this definitely was also ? to the two little boy's that played the ? of norman and paul they were just brilliant children are often left out of the ? list i think because the stars that play them all grown up are such a big profile for the whole film but these children are amazing and should be praised for what they have done don't you think the whole story was so lovely because it was true and was someone's life after all that was shared with us all\""
            ]
          },
          "metadata": {
            "tags": []
          },
          "execution_count": 6
        }
      ]
    },
    {
      "metadata": {
        "id": "EYK-tbFfhwzY",
        "colab_type": "code",
        "colab": {
          "autoexec": {
            "startup": false,
            "wait_interval": 0
          }
        }
      },
      "cell_type": "code",
      "source": [
        "import numpy as np\n",
        "def vectorize_sequences(sequences,dimension=10000):\n",
        "  results=np.zeros((len(sequences),dimension))\n",
        "  for i, sequence in enumerate(sequences):\n",
        "    results[i,sequence]=1.\n",
        "  return results\n",
        "x_train=vectorize_sequences(train_data)\n",
        "x_test=vectorize_sequences(test_data)\n"
      ],
      "execution_count": 0,
      "outputs": []
    },
    {
      "metadata": {
        "id": "Bk1J9BXzlIxY",
        "colab_type": "code",
        "colab": {
          "autoexec": {
            "startup": false,
            "wait_interval": 0
          }
        }
      },
      "cell_type": "code",
      "source": [
        "y_train=np.asarray(train_labels).astype('float32')\n",
        "y_test=np.asarray(test_labels).astype('float32')"
      ],
      "execution_count": 0,
      "outputs": []
    },
    {
      "metadata": {
        "id": "8wWe7CMylqNC",
        "colab_type": "code",
        "colab": {
          "autoexec": {
            "startup": false,
            "wait_interval": 0
          }
        }
      },
      "cell_type": "code",
      "source": [
        "from keras import models\n",
        "from keras import layers\n",
        "model=models.Sequential()\n",
        "model.add(layers.Dense(16,activation='relu',input_shape=(10000,)))\n",
        "model.add(layers.Dense(16,activation='relu'))\n",
        "model.add(layers.Dense(1,activation='sigmoid'))\n",
        "\n",
        "\n"
      ],
      "execution_count": 0,
      "outputs": []
    },
    {
      "metadata": {
        "id": "kMSMfgHBmdGw",
        "colab_type": "code",
        "colab": {
          "autoexec": {
            "startup": false,
            "wait_interval": 0
          }
        }
      },
      "cell_type": "code",
      "source": [
        "model.compile(optimizer='rmsprop',\n",
        "              loss='binary_crossentropy',\n",
        "              metrics=['acc'])"
      ],
      "execution_count": 0,
      "outputs": []
    },
    {
      "metadata": {
        "id": "i-5way7nn00c",
        "colab_type": "code",
        "colab": {
          "autoexec": {
            "startup": false,
            "wait_interval": 0
          }
        }
      },
      "cell_type": "code",
      "source": [
        "x_val=x_train[:10000]\n",
        "partial_x_train=x_train[10000:]\n",
        "y_val=y_train[:10000]\n",
        "partial_y_train=y_train[10000:]"
      ],
      "execution_count": 0,
      "outputs": []
    },
    {
      "metadata": {
        "id": "75vt-Hg5oILe",
        "colab_type": "code",
        "colab": {
          "autoexec": {
            "startup": false,
            "wait_interval": 0
          },
          "base_uri": "https://localhost:8080/",
          "height": 783
        },
        "outputId": "573635b3-6a19-4fdc-b2ad-becc672cf8eb",
        "executionInfo": {
          "status": "ok",
          "timestamp": 1528398575302,
          "user_tz": -300,
          "elapsed": 31216,
          "user": {
            "displayName": "Huzaifa Kamran",
            "photoUrl": "//lh3.googleusercontent.com/-uTO2GnOCB4E/AAAAAAAAAAI/AAAAAAAAGZU/tlp2eSEOsCk/s50-c-k-no/photo.jpg",
            "userId": "103167923321791102369"
          }
        }
      },
      "cell_type": "code",
      "source": [
        "history=model.fit(partial_x_train,\n",
        "                  partial_y_train,\n",
        "                  epochs=20,\n",
        "                  batch_size=512,\n",
        "                  validation_data=(x_val,y_val))\n"
      ],
      "execution_count": 13,
      "outputs": [
        {
          "output_type": "stream",
          "text": [
            "Train on 15000 samples, validate on 10000 samples\n",
            "Epoch 1/20\n",
            "15000/15000 [==============================] - 1s 92us/step - loss: 0.5044 - acc: 0.7875 - val_loss: 0.3772 - val_acc: 0.8708\n",
            "Epoch 2/20\n",
            "15000/15000 [==============================] - 1s 97us/step - loss: 0.2991 - acc: 0.9049 - val_loss: 0.3004 - val_acc: 0.8894\n",
            "Epoch 3/20\n",
            "15000/15000 [==============================] - 2s 101us/step - loss: 0.2175 - acc: 0.9282 - val_loss: 0.3082 - val_acc: 0.8709\n",
            "Epoch 4/20\n",
            "15000/15000 [==============================] - 2s 103us/step - loss: 0.1750 - acc: 0.9437 - val_loss: 0.2824 - val_acc: 0.8848\n",
            "Epoch 5/20\n",
            "15000/15000 [==============================] - 2s 101us/step - loss: 0.1427 - acc: 0.9540 - val_loss: 0.2853 - val_acc: 0.8857\n",
            "Epoch 6/20\n",
            "15000/15000 [==============================] - 2s 102us/step - loss: 0.1153 - acc: 0.9650 - val_loss: 0.3103 - val_acc: 0.8790\n",
            "Epoch 7/20\n",
            "15000/15000 [==============================] - 2s 101us/step - loss: 0.0982 - acc: 0.9710 - val_loss: 0.3128 - val_acc: 0.8846\n",
            "Epoch 8/20\n",
            "15000/15000 [==============================] - 2s 101us/step - loss: 0.0812 - acc: 0.9761 - val_loss: 0.3850 - val_acc: 0.8655\n",
            "Epoch 9/20\n",
            "14848/15000 [============================>.] - ETA: 0s - loss: 0.0664 - acc: 0.9821"
          ],
          "name": "stdout"
        },
        {
          "output_type": "stream",
          "text": [
            "15000/15000 [==============================] - 2s 101us/step - loss: 0.0667 - acc: 0.9818 - val_loss: 0.3618 - val_acc: 0.8780\n",
            "Epoch 10/20\n",
            "15000/15000 [==============================] - 2s 101us/step - loss: 0.0563 - acc: 0.9849 - val_loss: 0.3832 - val_acc: 0.8789\n",
            "Epoch 11/20\n",
            "15000/15000 [==============================] - 1s 100us/step - loss: 0.0462 - acc: 0.9883 - val_loss: 0.4154 - val_acc: 0.8767\n",
            "Epoch 12/20\n",
            "15000/15000 [==============================] - 2s 100us/step - loss: 0.0393 - acc: 0.9912 - val_loss: 0.4490 - val_acc: 0.8688\n",
            "Epoch 13/20\n",
            "15000/15000 [==============================] - 2s 100us/step - loss: 0.0305 - acc: 0.9931 - val_loss: 0.4670 - val_acc: 0.8734\n",
            "Epoch 14/20\n",
            "15000/15000 [==============================] - 1s 99us/step - loss: 0.0252 - acc: 0.9947 - val_loss: 0.4992 - val_acc: 0.8723\n",
            "Epoch 15/20\n",
            "15000/15000 [==============================] - 2s 100us/step - loss: 0.0185 - acc: 0.9977 - val_loss: 0.5379 - val_acc: 0.8679\n",
            "Epoch 16/20\n",
            "15000/15000 [==============================] - 1s 99us/step - loss: 0.0165 - acc: 0.9974 - val_loss: 0.5732 - val_acc: 0.8682\n",
            "Epoch 17/20\n",
            "15000/15000 [==============================] - 2s 101us/step - loss: 0.0105 - acc: 0.9992 - val_loss: 0.6524 - val_acc: 0.8586\n",
            "Epoch 18/20\n",
            " 5632/15000 [==========>...................] - ETA: 0s - loss: 0.0076 - acc: 0.9998"
          ],
          "name": "stdout"
        },
        {
          "output_type": "stream",
          "text": [
            "15000/15000 [==============================] - 2s 101us/step - loss: 0.0132 - acc: 0.9971 - val_loss: 0.6404 - val_acc: 0.8677\n",
            "Epoch 19/20\n",
            "15000/15000 [==============================] - 2s 102us/step - loss: 0.0057 - acc: 0.9997 - val_loss: 0.7169 - val_acc: 0.8560\n",
            "Epoch 20/20\n",
            "15000/15000 [==============================] - 2s 100us/step - loss: 0.0097 - acc: 0.9978 - val_loss: 0.6965 - val_acc: 0.8657\n"
          ],
          "name": "stdout"
        }
      ]
    },
    {
      "metadata": {
        "id": "EQwROIpnrQxN",
        "colab_type": "code",
        "colab": {
          "autoexec": {
            "startup": false,
            "wait_interval": 0
          },
          "base_uri": "https://localhost:8080/",
          "height": 376
        },
        "outputId": "a5467009-cfac-4742-be0c-ca936025c4e9",
        "executionInfo": {
          "status": "ok",
          "timestamp": 1528398700454,
          "user_tz": -300,
          "elapsed": 2527,
          "user": {
            "displayName": "Huzaifa Kamran",
            "photoUrl": "//lh3.googleusercontent.com/-uTO2GnOCB4E/AAAAAAAAAAI/AAAAAAAAGZU/tlp2eSEOsCk/s50-c-k-no/photo.jpg",
            "userId": "103167923321791102369"
          }
        }
      },
      "cell_type": "code",
      "source": [
        "import matplotlib.pyplot as plt \n",
        "history_dict=history.history\n",
        "loss_values=history_dict['loss']\n",
        "val_loss_values=history_dict['val_loss']\n",
        "epochs=range(1,len(loss_values)+1)\n",
        "plt.plot(epochs,loss_values,'bo',label='Training loss')\n",
        "plt.plot(epochs,val_loss_values,'b',label='Validation loss')\n",
        "plt.title('Training and validation loss')\n",
        "plt.xlabel('Epochs')\n",
        "plt.ylabel('loss')\n",
        "plt.legend()\n",
        "plt.show()\n",
        "\n"
      ],
      "execution_count": 14,
      "outputs": [
        {
          "output_type": "display_data",
          "data": {
            "image/png": "[encoded data removed]",
            "text/plain": [
              "<matplotlib.figure.Figure at 0x7f1e52895898>"
            ]
          },
          "metadata": {
            "tags": []
          }
        }
      ]
    },
    {
      "metadata": {
        "id": "Cxd5GXK3vh1n",
        "colab_type": "code",
        "colab": {
          "autoexec": {
            "startup": false,
            "wait_interval": 0
          },
          "base_uri": "https://localhost:8080/",
          "height": 376
        },
        "outputId": "e5147ff3-ca24-49b9-84f2-c631bb36b559",
        "executionInfo": {
          "status": "ok",
          "timestamp": 1528398705681,
          "user_tz": -300,
          "elapsed": 1530,
          "user": {
            "displayName": "Huzaifa Kamran",
            "photoUrl": "//lh3.googleusercontent.com/-uTO2GnOCB4E/AAAAAAAAAAI/AAAAAAAAGZU/tlp2eSEOsCk/s50-c-k-no/photo.jpg",
            "userId": "103167923321791102369"
          }
        }
      },
      "cell_type": "code",
      "source": [
        "plt.clf()\n",
        "acc_values=history_dict['acc']\n",
        "val_acc_values=history_dict['val_acc']\n",
        "plt.plot(epochs,acc_values,'bo',label='Training acc')\n",
        "plt.plot(epochs,val_acc_values,'b',label='Validation acc')\n",
        "plt.title('Training and Validation accuracy')\n",
        "plt.xlabel('Epochs')\n",
        "plt.ylabel('Loss')\n",
        "\n",
        "plt.legend()\n",
        "plt.show()\n",
        "\n"
      ],
      "execution_count": 15,
      "outputs": [
        {
          "output_type": "display_data",
          "data": {
            "image/png": "[encoded data removed]",
            "text/plain": [
              "<matplotlib.figure.Figure at 0x7f1e52899f98>"
            ]
          },
          "metadata": {
            "tags": []
          }
        }
      ]
    },
    {
      "metadata": {
        "id": "pTOpKFKSkDfM",
        "colab_type": "code",
        "colab": {
          "autoexec": {
            "startup": false,
            "wait_interval": 0
          },
          "base_uri": "https://localhost:8080/",
          "height": 181
        },
        "outputId": "e73a2ea0-d1c8-494a-908e-8e18913dc107",
        "executionInfo": {
          "status": "ok",
          "timestamp": 1528398719928,
          "user_tz": -300,
          "elapsed": 9517,
          "user": {
            "displayName": "Huzaifa Kamran",
            "photoUrl": "//lh3.googleusercontent.com/-uTO2GnOCB4E/AAAAAAAAAAI/AAAAAAAAGZU/tlp2eSEOsCk/s50-c-k-no/photo.jpg",
            "userId": "103167923321791102369"
          }
        }
      },
      "cell_type": "code",
      "source": [
        "model=models.Sequential()\n",
        "model.add(layers.Dense(16,activation='relu',input_shape=(10000,)))\n",
        "model.add(layers.Dense(16,activation='relu'))\n",
        "model.add(layers.Dense(1,activation='sigmoid'))\n",
        "model.compile(optimizer='rmsprop',\n",
        "              loss='binary_crossentropy',\n",
        "              metrics=['accuracy'])\n",
        "model.fit(x_train,y_train,epochs=4,batch_size=512)\n",
        "results=model.evaluate(x_test,y_test)\n",
        "\n"
      ],
      "execution_count": 16,
      "outputs": [
        {
          "output_type": "stream",
          "text": [
            "Epoch 1/4\n",
            "25000/25000 [==============================] - 2s 64us/step - loss: 0.4719 - acc: 0.8209\n",
            "Epoch 2/4\n",
            "25000/25000 [==============================] - 2s 65us/step - loss: 0.2624 - acc: 0.9114\n",
            "Epoch 3/4\n",
            "25000/25000 [==============================] - 2s 73us/step - loss: 0.1984 - acc: 0.9305\n",
            "Epoch 4/4\n",
            "25000/25000 [==============================] - 2s 74us/step - loss: 0.1675 - acc: 0.9406\n",
            "25000/25000 [==============================] - 2s 63us/step\n"
          ],
          "name": "stdout"
        }
      ]
    },
    {
      "metadata": {
        "id": "BNSD2L6TnmNd",
        "colab_type": "code",
        "colab": {
          "autoexec": {
            "startup": false,
            "wait_interval": 0
          }
        }
      },
      "cell_type": "code",
      "source": [
        ""
      ],
      "execution_count": 0,
      "outputs": []
    }
  ]
}